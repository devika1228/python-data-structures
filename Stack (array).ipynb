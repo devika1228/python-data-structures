{
 "cells": [
  {
   "cell_type": "code",
   "execution_count": 3,
   "id": "877f0ec1",
   "metadata": {},
   "outputs": [
    {
     "name": "stdout",
     "output_type": "stream",
     "text": [
      "{'arr': ['1', '2'], 'length': 2}\n"
     ]
    }
   ],
   "source": [
    "class stack:\n",
    "    def __init__(self):\n",
    "        self.arr=[]\n",
    "        self.length=0\n",
    "    \n",
    "    def __str__(self):\n",
    "        return str(self.__dict__)\n",
    "    \n",
    "    def peek(self):\n",
    "        return self.arr[self.length-1]\n",
    "    \n",
    "    def push(self,data):\n",
    "        self.arr.append(data)\n",
    "        self.length+=1\n",
    "        \n",
    "    def pop(self):\n",
    "        poppeditem=self.arr[self.length-1]\n",
    "        del self.arr[self.length-1]\n",
    "        self.length-=1\n",
    "        return poppeditem\n",
    "    \n",
    "s=stack()\n",
    "s.push('1')\n",
    "s.push('2')\n",
    "s.push('3')\n",
    "s.peek()\n",
    "s.pop()\n",
    "s.peek()\n",
    "print(s)"
   ]
  },
  {
   "cell_type": "code",
   "execution_count": null,
   "id": "254e6d3a",
   "metadata": {},
   "outputs": [],
   "source": []
  }
 ],
 "metadata": {
  "kernelspec": {
   "display_name": "Python 3 (ipykernel)",
   "language": "python",
   "name": "python3"
  },
  "language_info": {
   "codemirror_mode": {
    "name": "ipython",
    "version": 3
   },
   "file_extension": ".py",
   "mimetype": "text/x-python",
   "name": "python",
   "nbconvert_exporter": "python",
   "pygments_lexer": "ipython3",
   "version": "3.10.0"
  }
 },
 "nbformat": 4,
 "nbformat_minor": 5
}
